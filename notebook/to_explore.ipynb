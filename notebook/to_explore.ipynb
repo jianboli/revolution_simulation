{
 "cells": [
  {
   "cell_type": "markdown",
   "metadata": {},
   "source": [
    "# The model has no input\n",
    "Currently, the beings' predictive models don’t take any inputs, which limits their ability to make informed decisions. To make the models more meaningful, we need to provide them with relevant inputs. Here are some suggestions:\n",
    "\n",
    "## Possible Inputs for the Model\n",
    "* Current Position: The being's current (x, y) coordinates.\n",
    "* Food Locations: The positions of nearby food (if visible).\n",
    "* Other Beings: The positions of nearby beings (to avoid competition or form groups).\n",
    "* History: Past food locations or movement patterns.\n",
    "* Energy Level: The being's current energy (to prioritize food search when energy is low).\n",
    "\n",
    "### Implementation\n",
    "* We can modify the predict_direction method to take these inputs and use them to make predictions.\n",
    " \n",
    "For example:"
   ]
  },
  {
   "cell_type": "code",
   "execution_count": null,
   "metadata": {},
   "outputs": [],
   "source": [
    "def predict_direction(self, food_locations, other_beings):\n",
    "    \"\"\"Predict the best direction to move based on inputs.\"\"\"\n",
    "    # Example: Move towards the nearest food\n",
    "    if food_locations:\n",
    "        nearest_food = min(food_locations, key=lambda f: math.hypot(self.x - f[0], self.y - f[1]))\n",
    "        direction = np.array([nearest_food[0] - self.x, nearest_food[1] - self.y])\n",
    "        direction = direction / np.linalg.norm(direction)  # Normalize to a unit vector\n",
    "        return direction\n",
    "    # If no food is visible, move randomly\n",
    "    return np.random.rand(2) - 0.5  # Random direction"
   ]
  },
  {
   "cell_type": "markdown",
   "metadata": {},
   "source": [
    "# 2. Evolution of Advanced Prediction Models\n",
    "Currently, evolution only changes the parameters of a fixed model. To allow beings to develop more advanced prediction models, we need a way to evolve the structure of the models themselves. Here are some suggestions:\n",
    "\n",
    "## Approach 1: Neuroevolution\n",
    "Neuroevolution is a technique where the architecture and weights of neural networks are evolved over time. This allows beings to develop more complex models as they evolve.\n",
    "\n",
    "### Implementation:\n",
    "Use a library like NEAT (NeuroEvolution of Augmenting Topologies) to evolve neural networks.\n",
    "* Each being has a neural network as its brain.\n",
    "* The network’s architecture (number of layers, neurons, etc.) and weights are evolved over generations.\n",
    "\n",
    "Example:"
   ]
  },
  {
   "cell_type": "code",
   "execution_count": null,
   "metadata": {},
   "outputs": [],
   "source": [
    "import neat\n",
    "\n",
    "class DigitalBeing:\n",
    "    def __init__(self, genome, config):\n",
    "        self.genome = genome\n",
    "        self.network = neat.nn.FeedForwardNetwork.create(genome, config)\n",
    "        self.x = random.uniform(0, 10)\n",
    "        self.y = random.uniform(0, 10)\n",
    "        self.energy = 10\n",
    "\n",
    "    def predict_direction(self, inputs):\n",
    "        \"\"\"Use the neural network to predict the direction.\"\"\"\n",
    "        output = self.network.activate(inputs)\n",
    "        return np.array(output)  # Output is a direction vector\n",
    "\n",
    "    def move(self):\n",
    "        direction = self.predict_direction([self.x, self.y, self.energy])\n",
    "        self.x += direction[0]\n",
    "        self.y += direction[1]"
   ]
  },
  {
   "cell_type": "markdown",
   "metadata": {},
   "source": [
    "Evolution:\n",
    "\n",
    "Use a fitness function (e.g., energy level or food found) to evaluate beings.\n",
    "\n",
    "Evolve the population using a genetic algorithm.\n",
    "\n",
    "Approach 2: Symbolic Regression\n",
    "Symbolic regression evolves mathematical expressions (e.g., equations) to model behavior. This allows beings to develop their own prediction models from scratch.\n",
    "\n",
    "Implementation:\n",
    "\n",
    "Use a library like gplearn for symbolic regression.\n",
    "\n",
    "Each being has a mathematical expression as its model.\n",
    "\n",
    "The expression is evolved over generations.\n",
    "\n",
    "Example:"
   ]
  },
  {
   "cell_type": "code",
   "execution_count": null,
   "metadata": {},
   "outputs": [],
   "source": [
    "from gplearn.genetic import SymbolicRegressor\n",
    "\n",
    "class DigitalBeing:\n",
    "    def __init__(self, model):\n",
    "        self.model = model\n",
    "        self.x = random.uniform(0, 10)\n",
    "        self.y = random.uniform(0, 10)\n",
    "        self.energy = 10\n",
    "\n",
    "    def predict_direction(self, inputs):\n",
    "        \"\"\"Use the symbolic model to predict the direction.\"\"\"\n",
    "        direction = self.model.predict([inputs])[0]\n",
    "        return np.array(direction)\n",
    "\n",
    "    def move(self):\n",
    "        direction = self.predict_direction([self.x, self.y, self.energy])\n",
    "        self.x += direction[0]\n",
    "        self.y += direction[1]"
   ]
  },
  {
   "cell_type": "code",
   "execution_count": null,
   "metadata": {},
   "outputs": [],
   "source": [
    "Evolution:\n",
    "\n",
    "Use a fitness function to evaluate the models.\n",
    "\n",
    "Evolve the population using genetic programming.\n",
    "\n",
    "Approach 3: Meta-Learning\n",
    "Meta-learning allows beings to learn how to learn. They can develop their own learning algorithms over time.\n",
    "\n",
    "Implementation:\n",
    "\n",
    "Use a meta-learning framework like Learned Optimizers or MAML.\n",
    "\n",
    "Each being has a meta-model that learns how to update its prediction model.\n",
    "\n",
    "Example:"
   ]
  },
  {
   "cell_type": "code",
   "execution_count": null,
   "metadata": {},
   "outputs": [],
   "source": [
    "class DigitalBeing:\n",
    "    def __init__(self, meta_model):\n",
    "        self.meta_model = meta_model\n",
    "        self.model = np.random.rand(2)  # Initial model\n",
    "        self.x = random.uniform(0, 10)\n",
    "        self.y = random.uniform(0, 10)\n",
    "        self.energy = 10\n",
    "\n",
    "    def update_model(self, experience):\n",
    "        \"\"\"Use the meta-model to update the prediction model.\"\"\"\n",
    "        self.model = self.meta_model.update(self.model, experience)\n",
    "\n",
    "    def predict_direction(self, inputs):\n",
    "        \"\"\"Use the model to predict the direction.\"\"\"\n",
    "        return self.model\n",
    "\n",
    "    def move(self):\n",
    "        direction = self.predict_direction([self.x, self.y, self.energy])\n",
    "        self.x += direction[0]\n",
    "        self.y += direction[1]"
   ]
  },
  {
   "cell_type": "code",
   "execution_count": null,
   "metadata": {},
   "outputs": [],
   "source": [
    "Evolution:\n",
    "\n",
    "Evolve the meta-models over generations.\n",
    "\n",
    "Use a fitness function to evaluate the meta-models.\n",
    "\n",
    "Recommendations\n",
    "Start Simple:\n",
    "\n",
    "Begin with a basic input-based model (e.g., move towards the nearest food).\n",
    "\n",
    "Gradually introduce more complexity (e.g., neural networks or symbolic regression).\n",
    "\n",
    "Use a Library:\n",
    "\n",
    "For neuroevolution, use NEAT or DEAP.\n",
    "\n",
    "For symbolic regression, use gplearn.\n",
    "\n",
    "For meta-learning, use Learned Optimizers or MAML.\n",
    "\n",
    "Experiment:\n",
    "\n",
    "Try different approaches and see which one works best for your simulation.\n",
    "\n",
    "Combine approaches (e.g., use neuroevolution to evolve both model architecture and parameters).\n",
    "\n",
    "Example: Neuroevolution with NEAT\n",
    "Here’s a quick example of how to integrate neuroevolution into your simulation using the NEAT library:\n",
    "\n",
    "Install NEAT:"
   ]
  },
  {
   "cell_type": "code",
   "execution_count": null,
   "metadata": {
    "vscode": {
     "languageId": "shellscript"
    }
   },
   "outputs": [],
   "source": [
    "pip install neat-python"
   ]
  },
  {
   "cell_type": "markdown",
   "metadata": {},
   "source": [
    "Define the fitness function:"
   ]
  },
  {
   "cell_type": "code",
   "execution_count": null,
   "metadata": {},
   "outputs": [],
   "source": [
    "def eval_genomes(genomes, config):\n",
    "    for genome_id, genome in genomes:\n",
    "        being = DigitalBeing(genome, config)\n",
    "        # Simulate the being's behavior and calculate fitness\n",
    "        fitness = being.energy  # Example fitness function\n",
    "        genome.fitness = fitness"
   ]
  },
  {
   "cell_type": "markdown",
   "metadata": {},
   "source": [
    "Run the evolution:"
   ]
  },
  {
   "cell_type": "code",
   "execution_count": null,
   "metadata": {},
   "outputs": [],
   "source": [
    "config = neat.Config(neat.DefaultGenome, neat.DefaultReproduction,\n",
    "                     neat.DefaultSpeciesSet, neat.DefaultStagnation,\n",
    "                     'config.txt')\n",
    "population = neat.Population(config)\n",
    "population.run(eval_genomes, 50)  # Run for 50 generations"
   ]
  },
  {
   "cell_type": "markdown",
   "metadata": {},
   "source": []
  },
  {
   "cell_type": "markdown",
   "metadata": {},
   "source": [
    "# Automatics Feature extraction"
   ]
  },
  {
   "cell_type": "markdown",
   "metadata": {},
   "source": [
    "1. Memory Development\n",
    "Memory allows beings to store and recall past experiences, which can help them make better decisions. For example, they can remember where they found food or avoid areas where they starved.\n",
    "\n",
    "Approach: Recurrent Neural Networks (RNNs)\n",
    "Use RNNs or Long Short-Term Memory (LSTM) networks to give beings memory.\n",
    "\n",
    "The network’s hidden state acts as a memory that stores information over time.\n",
    "\n",
    "Implementation:\n"
   ]
  },
  {
   "cell_type": "code",
   "execution_count": null,
   "metadata": {},
   "outputs": [],
   "source": [
    "class DigitalBeing:\n",
    "    def __init__(self):\n",
    "        self.memory = np.zeros((10,))  # Example: A simple memory vector\n",
    "        self.model = self.build_model()  # A neural network with memory\n",
    "\n",
    "    def build_model(self):\n",
    "        \"\"\"Build a model with memory (e.g., an RNN).\"\"\"\n",
    "        model = tf.keras.Sequential([\n",
    "            tf.keras.layers.SimpleRNN(10, input_shape=(None, 2)),  # RNN layer\n",
    "            tf.keras.layers.Dense(2)  # Output: direction vector\n",
    "        ])\n",
    "        return model\n",
    "\n",
    "    def predict_direction(self, inputs):\n",
    "        \"\"\"Predict the direction using the model and update memory.\"\"\"\n",
    "        inputs = np.expand_dims(inputs, axis=0)  # Add batch dimension\n",
    "        direction = self.model(inputs)\n",
    "        return direction.numpy()[0]\n",
    "\n",
    "    def update_memory(self, experience):\n",
    "        \"\"\"Update memory based on new experiences.\"\"\"\n",
    "        self.memory = np.roll(self.memory, -1)  # Shift memory\n",
    "        self.memory[-1] = experience  # Store new experience"
   ]
  },
  {
   "cell_type": "markdown",
   "metadata": {},
   "source": [
    "Evolution:\n",
    "Evolve the architecture and parameters of the RNN using neuroevolution.\n",
    "\n",
    "Beings with better memory (e.g., those that remember food locations) will have higher fitness.\n",
    "\n",
    "2. Senses\n",
    "Senses allow beings to perceive their environment, such as detecting food or other beings. You can simulate senses by giving beings access to environmental data within a certain range.\n",
    "\n",
    "Approach: Sensor Inputs\n",
    "Define a \"sensing range\" for each being.\n",
    "\n",
    "Provide inputs like:\n",
    "\n",
    "Distance to the nearest food.\n",
    "\n",
    "Direction of the nearest food.\n",
    "\n",
    "Positions of nearby beings.\n",
    "\n",
    "Implementation:"
   ]
  },
  {
   "cell_type": "code",
   "execution_count": null,
   "metadata": {},
   "outputs": [],
   "source": [
    "class DigitalBeing:\n",
    "    def __init__(self):\n",
    "        self.sensing_range = 5  # Example: Beings can sense within 5 units\n",
    "        self.model = self.build_model()\n",
    "\n",
    "    def sense_environment(self, food_locations, other_beings):\n",
    "        \"\"\"Sense the environment and return inputs for the model.\"\"\"\n",
    "        inputs = []\n",
    "        # Sense food\n",
    "        for food in food_locations:\n",
    "            distance = math.hypot(self.x - food[0], self.y - food[1])\n",
    "            if distance <= self.sensing_range:\n",
    "                inputs.extend([food[0] - self.x, food[1] - self.y])  # Relative position of food\n",
    "        # Sense other beings\n",
    "        for being in other_beings:\n",
    "            distance = math.hypot(self.x - being.x, self.y - being.y)\n",
    "            if distance <= self.sensing_range and being != self:\n",
    "                inputs.extend([being.x - self.x, being.y - self.y])  # Relative position of being\n",
    "        return inputs\n",
    "\n",
    "    def predict_direction(self, inputs):\n",
    "        \"\"\"Predict the direction based on sensory inputs.\"\"\"\n",
    "        direction = self.model.predict(np.array([inputs]))[0]\n",
    "        return direction"
   ]
  },
  {
   "cell_type": "markdown",
   "metadata": {},
   "source": [
    "\n",
    "Evolution:\n",
    "Evolve the sensing range and how beings process sensory inputs.\n",
    "\n",
    "Beings with better senses (e.g., longer range or more accurate processing) will have higher fitness.\n",
    "\n",
    "3. Communication\n",
    "Communication allows beings to share information, such as food locations or warnings about danger. This can lead to emergent behaviors like cooperation or competition.\n",
    "\n",
    "Approach: Message Passing\n",
    "Beings can send and receive messages (e.g., vectors) to share information.\n",
    "\n",
    "Use a neural network to encode and decode messages.\n",
    "\n",
    "Implementation:"
   ]
  },
  {
   "cell_type": "code",
   "execution_count": null,
   "metadata": {},
   "outputs": [],
   "source": [
    "class DigitalBeing:\n",
    "    def __init__(self):\n",
    "        self.communication_range = 5  # Example: Beings can communicate within 5 units\n",
    "        self.message = None\n",
    "\n",
    "    def send_message(self, other_beings):\n",
    "        \"\"\"Send a message to nearby beings.\"\"\"\n",
    "        for being in other_beings:\n",
    "            distance = math.hypot(self.x - being.x, self.y - being.y)\n",
    "            if distance <= self.communication_range and being != self:\n",
    "                being.receive_message(self.message)\n",
    "\n",
    "    def receive_message(self, message):\n",
    "        \"\"\"Receive a message from another being.\"\"\"\n",
    "        self.message = message\n",
    "\n",
    "    def encode_message(self, information):\n",
    "        \"\"\"Encode information into a message.\"\"\"\n",
    "        self.message = information  # Example: A simple message\n",
    "\n",
    "    def decode_message(self):\n",
    "        \"\"\"Decode a message into usable information.\"\"\"\n",
    "        return self.message"
   ]
  },
  {
   "cell_type": "markdown",
   "metadata": {},
   "source": [
    "Evolution:\n",
    "Evolve the communication protocol (e.g., how messages are encoded and decoded).\n",
    "\n",
    "Beings that communicate effectively (e.g., sharing food locations) will have higher fitness.\n",
    "\n",
    "4. Emergent Information Extraction\n",
    "Instead of explicitly defining memory, senses, or communication, you can allow beings to develop these abilities on their own through evolution.\n",
    "\n",
    "Approach: Open-Ended Evolution\n",
    "Use a flexible model (e.g., a neural network with many inputs and outputs).\n",
    "\n",
    "Let the beings figure out how to use the inputs and outputs to extract information.\n",
    "\n",
    "Implementation:"
   ]
  },
  {
   "cell_type": "code",
   "execution_count": null,
   "metadata": {},
   "outputs": [],
   "source": [
    "class DigitalBeing:\n",
    "    def __init__(self):\n",
    "        self.model = self.build_model()\n",
    "\n",
    "    def build_model(self):\n",
    "        \"\"\"Build a flexible model with many inputs and outputs.\"\"\"\n",
    "        model = tf.keras.Sequential([\n",
    "            tf.keras.layers.Dense(10, input_shape=(10,)),  # Example: 10 inputs\n",
    "            tf.keras.layers.Dense(10),  # Hidden layer\n",
    "            tf.keras.layers.Dense(2)  # Output: direction vector\n",
    "        ])\n",
    "        return model\n",
    "\n",
    "    def predict_direction(self, inputs):\n",
    "        \"\"\"Predict the direction based on raw inputs.\"\"\"\n",
    "        direction = self.model.predict(np.array([inputs]))[0]\n",
    "        return direction"
   ]
  },
  {
   "cell_type": "markdown",
   "metadata": {},
   "source": []
  },
  {
   "cell_type": "code",
   "execution_count": null,
   "metadata": {},
   "outputs": [],
   "source": [
    "# Dynamic modifies of a class structure"
   ]
  },
  {
   "cell_type": "markdown",
   "metadata": {},
   "source": [
    "In Python, you can create a class that dynamically modifies its own structure (methods, attributes, inheritance, etc.) \n",
    "1. using metaprogramming techniques. Here are a few ways to achieve this:"
   ]
  },
  {
   "cell_type": "code",
   "execution_count": null,
   "metadata": {},
   "outputs": [],
   "source": [
    "class DynamicClass:\n",
    "    pass  # Start with an empty class\n",
    "\n",
    "# Dynamically add an attribute\n",
    "setattr(DynamicClass, 'dynamic_attr', 42)\n",
    "\n",
    "# Dynamically add a method\n",
    "def new_method(self):\n",
    "    return f\"Hello from dynamically added method!\"\n",
    "\n",
    "setattr(DynamicClass, 'dynamic_method', new_method)\n",
    "\n",
    "# Test it\n",
    "obj = DynamicClass()\n",
    "print(obj.dynamic_attr)  # Output: 42\n",
    "print(obj.dynamic_method())  # Output: Hello from dynamically added method!\n"
   ]
  },
  {
   "cell_type": "markdown",
   "metadata": {},
   "source": [
    "2. Using type() to Create a Class Dynamically\n",
    "The type() function can be used to create a class dynamically at runtime."
   ]
  },
  {
   "cell_type": "code",
   "execution_count": null,
   "metadata": {},
   "outputs": [],
   "source": [
    "def dynamic_method(self):\n",
    "    return \"I am a dynamic method!\"\n",
    "\n",
    "DynamicClass = type('DynamicClass', (object,), {'dynamic_method': dynamic_method})\n",
    "\n",
    "obj = DynamicClass()\n",
    "print(obj.dynamic_method())  # Output: I am a dynamic method!\n"
   ]
  },
  {
   "cell_type": "markdown",
   "metadata": {},
   "source": [
    "Here, type(name, bases, dict) dynamically creates a class with:\n",
    "* name → Class name (DynamicClass)\n",
    "* bases → Parent class ((object,))\n",
    "* dict → Class attributes and methods\n",
    "\n",
    "3. Using Metaclasses to Modify Class Structure\n",
    "A metaclass allows you to modify a class structure when it is created.\n",
    "\n",
    "\n",
    "\n"
   ]
  },
  {
   "cell_type": "code",
   "execution_count": null,
   "metadata": {},
   "outputs": [],
   "source": [
    "class Meta(type):\n",
    "    def __new__(cls, name, bases, class_dict):\n",
    "        class_dict['extra_method'] = lambda self: \"I am an extra method!\"\n",
    "        return super().__new__(cls, name, bases, class_dict)\n",
    "\n",
    "class MyClass(metaclass=Meta):\n",
    "    pass\n",
    "\n",
    "obj = MyClass()\n",
    "print(obj.extra_method())  # Output: I am an extra method!"
   ]
  },
  {
   "cell_type": "markdown",
   "metadata": {},
   "source": [
    "The metaclass modifies the class definition before it is created, injecting new methods dynamically.\n",
    "4. Modifying __dict__ to Change Structure at Runtime\n",
    "Python stores an object's attributes in __dict__, which can be modified dynamically."
   ]
  },
  {
   "cell_type": "code",
   "execution_count": null,
   "metadata": {},
   "outputs": [],
   "source": [
    "class MyClass:\n",
    "    def __init__(self):\n",
    "        self.value = 10\n",
    "\n",
    "obj = MyClass()\n",
    "\n",
    "# Dynamically add an instance method\n",
    "obj.__dict__['new_method'] = lambda: \"Dynamically added at runtime\"\n",
    "print(obj.new_method())  # Output: Dynamically added at runtime"
   ]
  },
  {
   "cell_type": "markdown",
   "metadata": {},
   "source": [
    "Use Case: Dynamic ORM Model\n",
    "This approach is useful when building ORM models, where attributes are defined dynamically based on database schemas."
   ]
  },
  {
   "cell_type": "markdown",
   "metadata": {},
   "source": []
  }
 ],
 "metadata": {
  "language_info": {
   "name": "python"
  }
 },
 "nbformat": 4,
 "nbformat_minor": 2
}
